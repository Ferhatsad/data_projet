{
 "cells": [
  {
   "cell_type": "code",
   "execution_count": 3,
   "id": "6ea41e8e",
   "metadata": {},
   "outputs": [],
   "source": [
    "import numpy as np\n",
    "import pandas as pd\n",
    "import cv2 as cv\n",
    "import matplotlib.pyplot as plt\n",
    "import seaborn as sns\n",
    "import numpy as np\n",
    "import pandas as pd\n",
    "import matplotlib.pyplot as plt\n",
    "import seaborn as sns\n",
    "\n",
    "from nltk import FreqDist\n",
    "from nltk.stem import PorterStemmer\n",
    "\n",
    "from nltk.corpus import stopwords\n",
    "from nltk.tokenize import word_tokenize\n",
    "\n",
    "from keras.preprocessing import text, sequence"
   ]
  },
  {
   "cell_type": "code",
   "execution_count": 2,
   "id": "3d35bff2",
   "metadata": {},
   "outputs": [
    {
     "data": {
      "text/html": [
       "<div>\n",
       "<style scoped>\n",
       "    .dataframe tbody tr th:only-of-type {\n",
       "        vertical-align: middle;\n",
       "    }\n",
       "\n",
       "    .dataframe tbody tr th {\n",
       "        vertical-align: top;\n",
       "    }\n",
       "\n",
       "    .dataframe thead th {\n",
       "        text-align: right;\n",
       "    }\n",
       "</style>\n",
       "<table border=\"1\" class=\"dataframe\">\n",
       "  <thead>\n",
       "    <tr style=\"text-align: right;\">\n",
       "      <th></th>\n",
       "      <th>filename</th>\n",
       "      <th>url</th>\n",
       "      <th>description</th>\n",
       "      <th>type</th>\n",
       "      <th>filepath</th>\n",
       "      <th>scraped</th>\n",
       "      <th>old_filename</th>\n",
       "      <th>old_filepath</th>\n",
       "      <th>text_image</th>\n",
       "    </tr>\n",
       "  </thead>\n",
       "  <tbody>\n",
       "    <tr>\n",
       "      <th>0</th>\n",
       "      <td>img_0000000.jpg</td>\n",
       "      <td>https://templates.invoicehome.com/modele-factu...</td>\n",
       "      <td>100 modèles gratuits de factures | Téléchargem...</td>\n",
       "      <td>0</td>\n",
       "      <td>./final/img_0000000.jpg</td>\n",
       "      <td>1</td>\n",
       "      <td>img_0000000.jpg</td>\n",
       "      <td>./facture/img_0000000.jpg</td>\n",
       "      <td>FACTURE\\n\\nLOGO\\n\\nJoanna Binet\\n48 Coubertin\\...</td>\n",
       "    </tr>\n",
       "    <tr>\n",
       "      <th>1</th>\n",
       "      <td>img_0000001.jpg</td>\n",
       "      <td>https://templates.invoicehome.com/modele-factu...</td>\n",
       "      <td>100 modèles gratuits de factures | Téléchargem...</td>\n",
       "      <td>0</td>\n",
       "      <td>./final/img_0000001.jpg</td>\n",
       "      <td>1</td>\n",
       "      <td>img_0000001.jpg</td>\n",
       "      <td>./facture/img_0000001.jpg</td>\n",
       "      <td>Joanna Binet\\n48 Coubertin\\n31400 Paris\\n\\nFAC...</td>\n",
       "    </tr>\n",
       "    <tr>\n",
       "      <th>2</th>\n",
       "      <td>img_0000002.jpg</td>\n",
       "      <td>https://www.coover.fr/wp-content/uploads/2021/...</td>\n",
       "      <td>Facture proforma : modèle à télécharger gratui...</td>\n",
       "      <td>0</td>\n",
       "      <td>./final/img_0000002.jpg</td>\n",
       "      <td>1</td>\n",
       "      <td>img_0000002.jpg</td>\n",
       "      <td>./facture/img_0000002.jpg</td>\n",
       "      <td>FACTURE\\n\\nMon entreprise : Nom de la société\\...</td>\n",
       "    </tr>\n",
       "    <tr>\n",
       "      <th>3</th>\n",
       "      <td>img_0000003.jpg</td>\n",
       "      <td>https://templates.invoicehome.com/modele-factu...</td>\n",
       "      <td>100 modèles gratuits de factures | Téléchargem...</td>\n",
       "      <td>0</td>\n",
       "      <td>./final/img_0000003.jpg</td>\n",
       "      <td>1</td>\n",
       "      <td>img_0000003.jpg</td>\n",
       "      <td>./facture/img_0000003.jpg</td>\n",
       "      <td>Joanna Binet\\n48 Coubertin\\n31400 Paris\\n\\nFAC...</td>\n",
       "    </tr>\n",
       "    <tr>\n",
       "      <th>4</th>\n",
       "      <td>img_0000004.jpg</td>\n",
       "      <td>https://files.intum.com/v/vosfactures/files/31...</td>\n",
       "      <td>Base de Connaissances - Vos Factures - Créer u...</td>\n",
       "      <td>0</td>\n",
       "      <td>./final/img_0000004.jpg</td>\n",
       "      <td>1</td>\n",
       "      <td>img_0000004.jpg</td>\n",
       "      <td>./facture/img_0000004.jpg</td>\n",
       "      <td>Payer en ligne &gt;\\nFACTURE No\\n\\nSFIDELI\\n\\nF/0...</td>\n",
       "    </tr>\n",
       "  </tbody>\n",
       "</table>\n",
       "</div>"
      ],
      "text/plain": [
       "          filename                                                url  \\\n",
       "0  img_0000000.jpg  https://templates.invoicehome.com/modele-factu...   \n",
       "1  img_0000001.jpg  https://templates.invoicehome.com/modele-factu...   \n",
       "2  img_0000002.jpg  https://www.coover.fr/wp-content/uploads/2021/...   \n",
       "3  img_0000003.jpg  https://templates.invoicehome.com/modele-factu...   \n",
       "4  img_0000004.jpg  https://files.intum.com/v/vosfactures/files/31...   \n",
       "\n",
       "                                         description  type  \\\n",
       "0  100 modèles gratuits de factures | Téléchargem...     0   \n",
       "1  100 modèles gratuits de factures | Téléchargem...     0   \n",
       "2  Facture proforma : modèle à télécharger gratui...     0   \n",
       "3  100 modèles gratuits de factures | Téléchargem...     0   \n",
       "4  Base de Connaissances - Vos Factures - Créer u...     0   \n",
       "\n",
       "                  filepath  scraped     old_filename  \\\n",
       "0  ./final/img_0000000.jpg        1  img_0000000.jpg   \n",
       "1  ./final/img_0000001.jpg        1  img_0000001.jpg   \n",
       "2  ./final/img_0000002.jpg        1  img_0000002.jpg   \n",
       "3  ./final/img_0000003.jpg        1  img_0000003.jpg   \n",
       "4  ./final/img_0000004.jpg        1  img_0000004.jpg   \n",
       "\n",
       "                old_filepath  \\\n",
       "0  ./facture/img_0000000.jpg   \n",
       "1  ./facture/img_0000001.jpg   \n",
       "2  ./facture/img_0000002.jpg   \n",
       "3  ./facture/img_0000003.jpg   \n",
       "4  ./facture/img_0000004.jpg   \n",
       "\n",
       "                                          text_image  \n",
       "0  FACTURE\\n\\nLOGO\\n\\nJoanna Binet\\n48 Coubertin\\...  \n",
       "1  Joanna Binet\\n48 Coubertin\\n31400 Paris\\n\\nFAC...  \n",
       "2  FACTURE\\n\\nMon entreprise : Nom de la société\\...  \n",
       "3  Joanna Binet\\n48 Coubertin\\n31400 Paris\\n\\nFAC...  \n",
       "4  Payer en ligne >\\nFACTURE No\\n\\nSFIDELI\\n\\nF/0...  "
      ]
     },
     "execution_count": 2,
     "metadata": {},
     "output_type": "execute_result"
    }
   ],
   "source": [
    "df=pd.read_csv('mon_data.csv')\n",
    "df.head()"
   ]
  },
  {
   "cell_type": "code",
   "execution_count": 23,
   "id": "501711dc",
   "metadata": {},
   "outputs": [],
   "source": [
    "data=df.iloc[:,[-1,3]]"
   ]
  },
  {
   "cell_type": "code",
   "execution_count": 29,
   "id": "9f2d2207",
   "metadata": {},
   "outputs": [],
   "source": [
    "from gensim.models import Word2Vec\n",
    "w2v_model = Word2Vec(min_count=20,\n",
    "                     window=2,\n",
    "                     #vector_size=100,\n",
    "                     alpha=0.03, \n",
    "                     negative=10,\n",
    "                     seed=1)"
   ]
  },
  {
   "cell_type": "code",
   "execution_count": 30,
   "id": "ffdc0525",
   "metadata": {},
   "outputs": [],
   "source": [
    "from nltk.corpus import stopwords\n",
    "from nltk.tokenize.regexp import  RegexpTokenizer\n",
    "stop_words = set(stopwords.words('french'))\n",
    "stop_words.update([\".\" , \",\",':'])\n",
    "tokenizer=RegexpTokenizer((\"[a-zA-Zé]{4,}\"))\n",
    "def stop_words_filtering(liste):\n",
    "    liste_new=[]\n",
    "    for i in liste:\n",
    "        if i not in stop_words:\n",
    "            liste_new.append(i)\n",
    "        else:\n",
    "            continue \n",
    "    return liste_new\n",
    "sentences=[]\n",
    "for txt in data.text_image:\n",
    "    mots=stop_words_filtering(tokenizer.tokenize(str(txt).lower()))\n",
    "    sentences.append(mots)"
   ]
  },
  {
   "cell_type": "code",
   "execution_count": 44,
   "id": "f25b5e2b",
   "metadata": {},
   "outputs": [
    {
     "name": "stdout",
     "output_type": "stream",
     "text": [
      "Vocabulary size: 1031\n",
      "['with', 'that', 'date', 'from', 'total', 'this', 'tobacco', 'will', 'have', 'research', 'source', 'other', 'montant', 'university', 'salaire', 'were', 'cotisations', 'which', 'your', 'base', 'taux', 'smoking', 'valeur', 'cigarette', 'revenu', 'sociale', 'year', 'code', 'name', 'paie', 'health', 'these', 'facture', 'more', 'cigarettes', 'heures', 'number', 'bulletin', 'been', 'employeur', 'they', 'service', 'paris', 'than', 'york', 'information', 'their', 'smoke', 'state', 'payer', 'brut', 'company', 'carte', 'american', 'page', 'imposable', 'study', 'only', 'sécurité', 'about', 'time', 'program', 'industrydocuments', 'https', 'brand', 'adresse', 'paiement', 'also', 'report', 'data', 'contributions', 'national', 'years', 'there', 'part', 'assurance', 'each', 'medical', 'medicine', 'product', 'public', 'would', 'such', 'retraite', 'smokers', 'department', 'should', 'please', 'when', 'high', 'amount', 'cancer', 'subject', 'form', 'address', 'some', 'description', 'client', 'office', 'morris', 'travail', 'maladie', 'used', 'after', 'institute', 'type', 'school', 'order', 'during', 'first', 'fran', 'avenue', 'group', 'over', 'under', 'ucst', 'washington', 'include', 'products', 'general', 'present', 'philip', 'development', 'check', 'period', 'paper', 'docs', 'food', 'tranche', 'signature', 'what', 'chomage', 'complémentaire', 'autres', 'current', 'section', 'pack', 'college', 'project', 'many', 'between', 'aise', 'cell', 'given', 'filter', 'services', 'france', 'mois', 'city', 'euros', 'last', 'made', 'through', 'nicotine', 'janvier', 'following', 'martin', 'crds', 'committee', 'prix', 'march', 'lung', 'street', 'impot', 'both', 'president', 'meeting', 'director', 'work', 'area', 'business', 'weight', 'results', 'center', 'most', 'birth', 'compte', 'cumul', 'less', 'people', 'contrat', 'said', 'level', 'association', 'plus', 'board', 'nutrition', 'siret', 'like', 'jours', 'nombre', 'telephone', 'material', 'place', 'santé', 'same', 'test', 'available', 'studies', 'local', 'conditions', 'cost', 'patronales', 'received', 'passport', 'well', 'education', 'convention', 'states', 'into', 'avant', 'water', 'value', 'application', 'list', 'emploi', 'change', 'période', 'pages', 'congés', 'united', 'share', 'week', 'dues', 'industry', 'expenses', 'call', 'publications', 'card', 'three', 'biology', 'division', 'those', 'nature', 'where', 'chemical', 'rate', 'journal', 'professional', 'among', 'sales', 'below', 'nationale', 'sexe', 'document', 'dont', 'june', 'title', 'risk', 'professor', 'numéro', 'entreprise', 'collective', 'disease', 'because', 'mail', 'taste', 'postale', 'usage', 'passeport', 'pris', 'april', 'charges', 'social', 'lieu', 'before', 'must', 'associate', 'travel', 'urssaf', 'make', 'days', 'table', 'could', 'sans', 'republique', 'winston', 'payment', 'déductible', 'personnel', 'contact', 'account', 'famille', 'market', 'children', 'including', 'society', 'them', 'distribution', 'using', 'does', 'long', 'government', 'case', 'status', 'exposure', 'eduldocs', 'women', 'contribution', 'phone', 'september', 'specific', 'note', 'activity', 'titulaire', 'copy', 'plan', 'position', 'points', 'jour', 'management', 'members', 'assistant', 'point', 'special', 'prime', 'science', 'effects', 'flavor', 'august', 'marie', 'being', 'hospital', 'process', 'advertising', 'good', 'protein', 'growth', 'plafonnée', 'marketing', 'attached', 'additional', 'vice', 'income', 'right', 'october', 'publication', 'average', 'groups', 'international', 'times', 'previous', 'country', 'based', 'drug', 'diet', 'review', 'invalidité', 'volume', 'sante', 'above', 'experience', 'free', 'payés', 'then', 'best', 'calcium', 'déplacements', 'mage', 'july', 'different', 'questions', 'staff', 'federal', 'length', 'levels', 'today', 'back', 'fiche', 'training', 'programs', 'costs', 'companies', 'foods', 'complete', 'within', 'déplafonnée', 'action', 'associated', 'found', 'agency', 'very', 'sociales', 'required', 'ville', 'sent', 'however', 'retenues', 'kool', 'ohio', 'possible', 'person', 'salariales', 'dept', 'november', 'clinical', 'survey', 'production', 'further', 'december', 'price', 'biochemistry', 'sheet', 'monthly', 'site', 'solde', 'transport', 'factors', 'complementaire', 'salem', 'rémunération', 'control', 'prepared', 'cent', 'salarié', 'acquis', 'percent', 'sugar', 'issue', 'full', 'virginia', 'rtbpfw', 'république', 'identite', 'category', 'direct', 'senior', 'progress', 'record', 'prénom', 'final', 'paye', 'loss', 'without', 'lights', 'evaluation', 'approved', 'interest', 'since', 'determine', 'formation', 'fire', 'increase', 'need', 'venue', 'result', 'téléphone', 'several', 'budget', 'agreement', 'cells', 'request', 'hand', 'increased', 'chicago', 'support', 'quality', 'maladies', 'consumer', 'schedule', 'notice', 'molecular', 'against', 'human', 'nationalité', 'provide', 'take', 'cadre', 'various', 'added', 'bank', 'display', 'chemicals', 'scientific', 'promotion', 'invoice', 'values', 'dupont', 'names', 'chemistry', 'member', 'proposed', 'february', 'mode', 'council', 'park', 'reported', 'important', 'cases', 'standard', 'thank', 'mensuel', 'effect', 'informations', 'vieillesse', 'here', 'taxe', 'begin', 'personal', 'major', 'analysis', 'sciences', 'deductible', 'past', 'much', 'sodium', 'every', 'return', 'domicile', 'annual', 'canada', 'jean', 'dated', 'purpose', 'securite', 'four', 'gene', 'attestation', 'comments', 'david', 'held', 'accident', 'experimental', 'manager', 'environmental', 'materials', 'professionnelles', 'moviles', 'samples', 'charge', 'evidence', 'quarter', 'principal', 'california', 'active', 'horaire', 'second', 'related', 'louis', 'bureau', 'dear', 'heart', 'india', 'press', 'francaise', 'foundation', 'laboratory', 'records', 'world', 'media', 'tion', 'assets', 'approval', 'least', 'menthol', 'help', 'funds', 'residence', 'prélevé', 'north', 'reynolds', 'even', 'january', 'hormone', 'administration', 'limited', 'entre', 'soft', 'union', 'location', 'white', 'htps', 'produced', 'none', 'cedex', 'activities', 'legal', 'response', 'packs', 'read', 'single', 'salarie', 'cause', 'system', 'fellow', 'line', 'robert', 'matricule', 'population', 'necessary', 'item', 'accidents', 'million', 'while', 'grade', 'another', 'next', 'internet', 'indemnité', 'common', 'compared', 'applicable', 'prioritization', 'side', 'discussion', 'addition', 'correct', 'fnal', 'others', 'conference', 'preparation', 'room', 'durée', 'cours', 'temps', 'question', 'tipping', 'illinois', 'post', 'students', 'paid', 'animals', 'unitaire', 'provided', 'trade', 'significant', 'month', 'notes', 'sample', 'just', 'naissance', 'john', 'regular', 'missouri', 'america', 'months', 'reference', 'tumor', 'care', 'rates', 'frais', 'degree', 'building', 'problem', 'chairman', 'suppression', 'acid', 'role', 'individuals', 'technology', 'effective', 'give', 'life', 'capital', 'still', 'items', 'although', 'substances', 'iban', 'amounts', 'basic', 'potential', 'faire', 'virement', 'county', 'death', 'statement', 'limitation', 'home', 'physical', 'upon', 'contract', 'actual', 'marlboro', 'weeks', 'charles', 'true', 'unit', 'higher', 'male', 'continue', 'female', 'coupon', 'model', 'periode', 'shown', 'cotisation', 'terminate', 'currently', 'show', 'annuel', 'année', 'taille', 'conges', 'field', 'delivery', 'deces', 'brute', 'merit', 'terms', 'inter', 'might', 'merci', 'road', 'taken', 'retenue', 'financial', 'mouth', 'désignation', 'great', 'panel', 'term', 'trimegestone', 'william', 'payé', 'remuneration', 'until', 'investigator', 'graduate', 'salarial', 'range', 'difference', 'consommation', 'carton', 'mouse', 'traitement', 'appel', 'filler', 'submitted', 'tout', 'face', 'house', 'printing', 'answer', 'boston', 'extremely', 'segment', 'variety', 'anti', 'brown', 'gain', 'depuis', 'prénoms', 'placed', 'article', 'thomas', 'résidence', 'pressure', 'procedure', 'know', 'expected', 'equity', 'family', 'bancaire', 'approach', 'diseases', 'persons', 'profit', 'areas', 'mortality', 'whether', 'confidential', 'size', 'working', 'message', 'class', 'basis', 'doit', 'relationship', 'agent', 'saint', 'taxes', 'letter', 'black', 'original', 'authorized', 'either', 'postdoctoral', 'advisory', 'send', 'court', 'revised', 'banque', 'course', 'store', 'offer', 'content', 'sous', 'hazard', 'station', 'associates', 'problems', 'smith', 'dose', 'little', 'recent', 'estradiol', 'parts', 'fish', 'massachusetts', 'numero', 'extreme', 'shares', 'fund', 'king', 'green', 'figure', 'young', 'projects', 'documents', 'completed', 'small', 'reason', 'independent', 'main', 'stock', 'global', 'mars', 'retard', 'email', 'expense', 'paul', 'come', 'subjects', 'safety', 'meetings', 'brain', 'making', 'individual', 'proposal', 'operations', 'selected', 'absence', 'milk', 'private', 'opinion', 'requested', 'countries', 'containing', 'daily', 'regulation', 'future', 'reports', 'south', 'better', 'toxicology', 'brands', 'reduction', 'indicate', 'estimated', 'identité', 'prior', 'greater', 'corporation', 'schools', 'estimate', 'displays', 'consumers', 'postal', 'carbon', 'central', 'industrial', 'representative', 'corporate', 'planning', 'doctors', 'newport', 'money', 'news', 'involved', 'responsible', 'impact', 'later', 'assistance', 'déplacement', 'maternité', 'james', 'cumuls', 'third', 'hotel', 'glue', 'retail', 'differences', 'want', 'cette', 'univ', 'mice', 'richmond', 'summary', 'fact', 'receive', 'lorillard', 'tissue', 'community', 'quantité', 'down', 'droits', 'west', 'determined', 'dates', 'police', 'commerce', 'familiales', 'biological', 'organization', 'focus', 'identification', 'allow', 'wednesday', 'ultra', 'included', 'executive', 'avantages', 'early', 'issues', 'target', 'indice', 'five', 'pierre', 'ment', 'congress', 'instructions', 'conducted', 'dollars', 'dust', 'method', 'recently', 'shall', 'grams', 'plafond', 'large', 'florida', 'percentage', 'details', 'going', 'entrez', 'warning', 'written', 'vitro', 'lower', 'trial', 'primes', 'toulouse', 'indicated', 'wall', 'cover', 'express', 'land', 'tablets', 'cash', 'says', 'apec', 'verse', 'exposed', 'vers', 'enfants', 'supp', 'adult', 'print', 'payable', 'courrier', 'academy', 'expenditures', 'likely', 'friday', 'texas', 'technical', 'rubrique', 'camel', 'nitrogen', 'plug', 'cont', 'hors', 'introduction', 'indemnités', 'adhesive', 'stores', 'papers', 'logo', 'normal', 'slight', 'scientist', 'official', 'honors', 'reduced', 'chain', 'objective', 'mark', 'parents', 'patients', 'factor', 'suite', 'done', 'solidarite', 'classification', 'pays', 'personnes', 'weekly', 'mean', 'niveau', 'comment', 'anciennete', 'salariale', 'urgence', 'incapacité', 'established', 'prochaine', 'certain', 'real', 'chronological', 'totale', 'designed', 'image', 'enclosed', 'open', 'numbers', 'leading', 'yield', 'specification', 'continued', 'look', 'salt', 'grant', 'systems', 'vement', 'michigan', 'activation', 'respect', 'général', 'plant', 'prevention']\n"
     ]
    }
   ],
   "source": [
    "sentences[478]\n",
    "w2v_model.build_vocab(sentences, progress_per=10000)\n",
    "words = list(w2v_model.wv.index_to_key)\n",
    "print('Vocabulary size: %d' % len(words))\n",
    "print(words)"
   ]
  },
  {
   "cell_type": "code",
   "execution_count": 37,
   "id": "66dcbbc1",
   "metadata": {},
   "outputs": [
    {
     "data": {
      "text/plain": [
       "(1569424, 3774840)"
      ]
     },
     "execution_count": 37,
     "metadata": {},
     "output_type": "execute_result"
    }
   ],
   "source": [
    "w2v_model.train(sentences,total_examples=w2v_model.corpus_count, epochs=30)"
   ]
  },
  {
   "cell_type": "code",
   "execution_count": 43,
   "id": "4cf9b526",
   "metadata": {},
   "outputs": [
    {
     "name": "stdout",
     "output_type": "stream",
     "text": [
      "Shape of one vector:  (100,) \n",
      "\n",
      "[ 0.7982277   0.23931201 -0.73301387 -1.3355633   0.87679255 -0.2088257\n",
      "  0.62555754  0.08889236 -1.5251461   0.29967672 -0.26125118  0.89874536\n",
      " -0.5805324  -0.21915938  1.1480118  -0.3615557  -0.9641476   0.43201298\n",
      " -0.07434788 -0.36297783  1.0155146   0.00912657  0.8343874   0.8010467\n",
      " -1.48913    -1.8934053   0.82238656  0.4892439  -0.56246144 -1.2215469\n",
      " -0.24354894 -0.5810873   0.10998055 -1.418808    0.66060305 -1.308946\n",
      " -1.1090803   0.00211307 -0.4525328   0.28499308  0.09512299 -0.14459167\n",
      " -0.6034677   0.52758455 -0.5166448   1.4796349  -0.64522237 -1.017558\n",
      "  0.7121931   0.51336074 -0.30659354 -0.14787123 -0.2544703   0.96566206\n",
      " -1.1318887   0.25531533 -0.3330239   0.7814866   1.7546153  -0.3849063\n",
      "  0.67525125 -1.1422726  -1.3770951  -0.27337214 -0.7685881   0.7825532\n",
      " -0.58689106  0.6300455  -0.1367124   0.53386724 -0.30929708  0.48221835\n",
      "  0.16113286 -1.0098851   1.082639    1.3024272  -0.61814386 -0.10794216\n",
      "  0.29132313  0.09849928  0.2591312   0.21602558  0.05113982 -1.7398468\n",
      "  0.36007676 -0.13973    -0.07523865 -0.8414594   0.08977582 -0.47035697\n",
      " -0.01228003  0.5657062   0.62899107 -0.694182    0.0279587  -1.1575804\n",
      " -0.36103293  0.64119136 -0.30394536  1.0733802 ]\n"
     ]
    }
   ],
   "source": [
    "mot_vu=w2v_model.wv['facture']\n",
    "\n",
    "print('Shape of one vector: ', mot_vu.shape, '\\n')\n",
    "print(mot_vu )\n"
   ]
  },
  {
   "cell_type": "code",
   "execution_count": null,
   "id": "18aa9e68",
   "metadata": {},
   "outputs": [],
   "source": []
  }
 ],
 "metadata": {
  "kernelspec": {
   "display_name": "Python 3 (ipykernel)",
   "language": "python",
   "name": "python3"
  },
  "language_info": {
   "codemirror_mode": {
    "name": "ipython",
    "version": 3
   },
   "file_extension": ".py",
   "mimetype": "text/x-python",
   "name": "python",
   "nbconvert_exporter": "python",
   "pygments_lexer": "ipython3",
   "version": "3.9.12"
  }
 },
 "nbformat": 4,
 "nbformat_minor": 5
}
