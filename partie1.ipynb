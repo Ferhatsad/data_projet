{
 "cells": [
  {
   "cell_type": "code",
   "execution_count": 2,
   "id": "9c075e21",
   "metadata": {},
   "outputs": [],
   "source": [
    "import numpy as np\n",
    "import pandas as pd\n",
    "import cv2 as cv\n",
    "import matplotlib.pyplot as plt\n",
    "\n",
    "df=pd.read_csv(\"other_data.csv\")\n",
    "df.type.replace(df.type.unique(),np.array([i for i in range(23)]),inplace=True)#remplacer les types d'images par \n",
    "                                                                               #des valeurs numérique (0 à 22)\n",
    "pors=df.type.value_counts().apply(lambda x : x*20//100)#calculé le nombre d'images a extraire de chaque type pour 20%\n"
   ]
  },
  {
   "cell_type": "code",
   "execution_count": null,
   "id": "0ac1087c",
   "metadata": {},
   "outputs": [],
   "source": []
  },
  {
   "cell_type": "code",
   "execution_count": 2,
   "id": "3d420d46",
   "metadata": {},
   "outputs": [],
   "source": [
    "# importer les données dans des listes img_test et img_train\n",
    "list_img_x_test=[]\n",
    "list_img_x_train=[]\n",
    "list_img_y_test=[]\n",
    "list_img_y_train=[]\n",
    "\n",
    "for ty in df.type.unique():\n",
    "    list_img_x_test.extend(df.filename[df.type==ty].sample(n=pors[ty]))#la fonction sample pérmer d'extrait des lignes\n",
    "                                                                       #d'un DataFrame d'une maniere aleatoire\n",
    "    list_img_y_test.extend([ty]*pors[ty])\n",
    "for i,j in zip(df.filename,df.type):\n",
    "    if i not in list_img_x_test:\n",
    "        list_img_x_train.append(i)\n",
    "        list_img_y_train.append(j)\n",
    "\n",
    "img_test=[]\n",
    "img_train=[]\n",
    "\n",
    "for img_n  in list_img_x_train:\n",
    "    img=cv.imread('final/'+img_n)\n",
    "    gray = cv.cvtColor(img, cv.COLOR_BGR2GRAY)\n",
    "    img_train.append(img)\n",
    "    \n",
    "for img_n  in list_img_x_test:\n",
    "    img=cv.imread('final/'+img_n)\n",
    "    gray = cv.cvtColor(img, cv.COLOR_BGR2GRAY)\n",
    "    img_test.append(gray)"
   ]
  },
  {
   "cell_type": "code",
   "execution_count": null,
   "id": "da8bf98e",
   "metadata": {},
   "outputs": [],
   "source": [
    "# transformer les images en textes et les sauvgarder dans des listes x_train_text, x_test_text\n",
    "import matplotlib.pyplot as plt\n",
    "import pytesseract\n",
    "pytesseract.pytesseract.tesseract_cmd=r'C:\\Program Files\\Tesseract-OCR\\tesseract.exe'\n",
    "x_train_text=[]\n",
    "x_test_text=[]\n",
    "for img in img_train:\n",
    "    text=pytesseract.image_to_string(img)\n",
    "    x_train_text.append(text)\n"
   ]
  },
  {
   "cell_type": "code",
   "execution_count": 52,
   "id": "9459ac1f",
   "metadata": {},
   "outputs": [],
   "source": [
    "for img in img_test:\n",
    "    text=pytesseract.image_to_string(img)\n",
    "    x_test_text.append(text)"
   ]
  },
  {
   "cell_type": "code",
   "execution_count": 53,
   "id": "9e28ee29",
   "metadata": {},
   "outputs": [],
   "source": [
    "#Convertissez une collection de documents texte en une matrice de décomptes de jetons\n",
    "from sklearn.feature_extraction.text import CountVectorizer\n",
    "count_vect = CountVectorizer()\n",
    "X_train_counts = count_vect.fit_transform(x_train_text)\n"
   ]
  },
  {
   "cell_type": "markdown",
   "id": "b9d657ba",
   "metadata": {},
   "source": [
    "https://scikit-learn.org/stable/tutorial/text_analytics/working_with_text_data.html#from-occurrences-to-frequencies"
   ]
  },
  {
   "cell_type": "code",
   "execution_count": 44,
   "id": "569008dd",
   "metadata": {},
   "outputs": [
    {
     "data": {
      "text/plain": [
       "(500, 10990)"
      ]
     },
     "execution_count": 44,
     "metadata": {},
     "output_type": "execute_result"
    }
   ],
   "source": []
  },
  {
   "cell_type": "code",
   "execution_count": 54,
   "id": "8f5a51a3",
   "metadata": {},
   "outputs": [],
   "source": [
    " tfidf_transformer = TfidfTransformer()\n",
    "X_train_tfidf = tfidf_transformer.fit_transform(X_train_counts)\n"
   ]
  },
  {
   "cell_type": "code",
   "execution_count": 59,
   "id": "11ee7956",
   "metadata": {},
   "outputs": [],
   "source": [
    "#classificateur Bayes naïf \n",
    "from sklearn.naive_bayes import MultinomialNB\n",
    "from sklearn.pipeline import Pipeline\n",
    "text_clf = Pipeline([\n",
    "    ('vect', CountVectorizer()),\n",
    "    ('tfidf', TfidfTransformer()),\n",
    "    ('clf', MultinomialNB()),\n",
    "])"
   ]
  },
  {
   "cell_type": "code",
   "execution_count": 126,
   "id": "39043233",
   "metadata": {},
   "outputs": [],
   "source": [
    "#classificateur(SVM)\n",
    "from sklearn.pipeline import Pipeline\n",
    "from sklearn.linear_model import SGDClassifier\n",
    "text_clf = Pipeline([\n",
    "     ('vect', CountVectorizer()),\n",
    "     ('tfidf', TfidfTransformer()),\n",
    "     ('clf', SGDClassifier(loss='hinge', penalty='l2',\n",
    "                           alpha=1e-3, random_state=42,\n",
    "))])"
   ]
  },
  {
   "cell_type": "code",
   "execution_count": 127,
   "id": "afc6e089",
   "metadata": {},
   "outputs": [],
   "source": [
    "#LogisticRegression\n",
    "from sklearn import ensemble\n",
    "from sklearn import linear_model\n",
    "from sklearn.pipeline import Pipeline\n",
    "from sklearn.linear_model import SGDClassifier\n",
    "text_clf = Pipeline([\n",
    "     ('vect', CountVectorizer()),\n",
    "     ('tfidf', TfidfTransformer()),\n",
    "     ('clf', linear_model.LogisticRegression(C=1000)\n",
    ")])"
   ]
  },
  {
   "cell_type": "code",
   "execution_count": 128,
   "id": "96de59ab",
   "metadata": {},
   "outputs": [
    {
     "name": "stderr",
     "output_type": "stream",
     "text": [
      "C:\\Users\\sadoun\\anaconda3\\lib\\site-packages\\sklearn\\linear_model\\_logistic.py:763: ConvergenceWarning: lbfgs failed to converge (status=1):\n",
      "STOP: TOTAL NO. of ITERATIONS REACHED LIMIT.\n",
      "\n",
      "Increase the number of iterations (max_iter) or scale the data as shown in:\n",
      "    https://scikit-learn.org/stable/modules/preprocessing.html\n",
      "Please also refer to the documentation for alternative solver options:\n",
      "    https://scikit-learn.org/stable/modules/linear_model.html#logistic-regression\n",
      "  n_iter_i = _check_optimize_result(\n"
     ]
    },
    {
     "data": {
      "text/plain": [
       "Pipeline(steps=[('vect', CountVectorizer()), ('tfidf', TfidfTransformer()),\n",
       "                ('clf', LogisticRegression(C=1000))])"
      ]
     },
     "execution_count": 128,
     "metadata": {},
     "output_type": "execute_result"
    }
   ],
   "source": [
    "text_clf.fit(x_train_text, list_img_y_train)"
   ]
  },
  {
   "cell_type": "code",
   "execution_count": 129,
   "id": "21e6ec0f",
   "metadata": {},
   "outputs": [
    {
     "data": {
      "text/plain": [
       "0.6089743589743589"
      ]
     },
     "execution_count": 129,
     "metadata": {},
     "output_type": "execute_result"
    }
   ],
   "source": [
    "y_pred=text_clf.predict(x_test_text)\n",
    "text_clf.score(x_test_text,list_img_y_test)\n"
   ]
  },
  {
   "cell_type": "code",
   "execution_count": null,
   "id": "62cfa3b9",
   "metadata": {},
   "outputs": [],
   "source": [
    "from sklearn.ensemble import AdaBoostClassifier\n",
    "ac=AdaBoostClassifier(base_estimator=clf,n_estimators=400)\n",
    "ac.fit(x_train, y_train)\n",
    "ac.score(x_test,y_test)"
   ]
  }
 ],
 "metadata": {
  "kernelspec": {
   "display_name": "Python 3 (ipykernel)",
   "language": "python",
   "name": "python3"
  },
  "language_info": {
   "codemirror_mode": {
    "name": "ipython",
    "version": 3
   },
   "file_extension": ".py",
   "mimetype": "text/x-python",
   "name": "python",
   "nbconvert_exporter": "python",
   "pygments_lexer": "ipython3",
   "version": "3.9.12"
  }
 },
 "nbformat": 4,
 "nbformat_minor": 5
}
