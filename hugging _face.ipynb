{
 "cells": [
  {
   "cell_type": "code",
   "execution_count": 1,
   "id": "3117f521",
   "metadata": {},
   "outputs": [
    {
     "data": {
      "text/html": [
       "<div>\n",
       "<style scoped>\n",
       "    .dataframe tbody tr th:only-of-type {\n",
       "        vertical-align: middle;\n",
       "    }\n",
       "\n",
       "    .dataframe tbody tr th {\n",
       "        vertical-align: top;\n",
       "    }\n",
       "\n",
       "    .dataframe thead th {\n",
       "        text-align: right;\n",
       "    }\n",
       "</style>\n",
       "<table border=\"1\" class=\"dataframe\">\n",
       "  <thead>\n",
       "    <tr style=\"text-align: right;\">\n",
       "      <th></th>\n",
       "      <th>Unnamed: 0</th>\n",
       "      <th>filename</th>\n",
       "      <th>type</th>\n",
       "      <th>text_image</th>\n",
       "      <th>type_char</th>\n",
       "    </tr>\n",
       "  </thead>\n",
       "  <tbody>\n",
       "    <tr>\n",
       "      <th>0</th>\n",
       "      <td>0</td>\n",
       "      <td>img_0000000.jpg</td>\n",
       "      <td>0</td>\n",
       "      <td>FACTURE\\n\\nLOGO\\n\\nJoanna Binet\\n48 Coubertin\\...</td>\n",
       "      <td>facture</td>\n",
       "    </tr>\n",
       "    <tr>\n",
       "      <th>1</th>\n",
       "      <td>1</td>\n",
       "      <td>img_0000001.jpg</td>\n",
       "      <td>0</td>\n",
       "      <td>Joanna Binet\\n48 Coubertin\\n31400 Paris\\n\\nFAC...</td>\n",
       "      <td>facture</td>\n",
       "    </tr>\n",
       "    <tr>\n",
       "      <th>2</th>\n",
       "      <td>2</td>\n",
       "      <td>img_0000002.jpg</td>\n",
       "      <td>0</td>\n",
       "      <td>FACTURE\\n\\nMon entreprise : Nom de la société\\...</td>\n",
       "      <td>facture</td>\n",
       "    </tr>\n",
       "    <tr>\n",
       "      <th>3</th>\n",
       "      <td>3</td>\n",
       "      <td>img_0000003.jpg</td>\n",
       "      <td>0</td>\n",
       "      <td>Joanna Binet\\n48 Coubertin\\n31400 Paris\\n\\nFAC...</td>\n",
       "      <td>facture</td>\n",
       "    </tr>\n",
       "    <tr>\n",
       "      <th>4</th>\n",
       "      <td>4</td>\n",
       "      <td>img_0000004.jpg</td>\n",
       "      <td>0</td>\n",
       "      <td>Payer en ligne &gt;\\nFACTURE No\\n\\nSFIDELI\\n\\nF/0...</td>\n",
       "      <td>facture</td>\n",
       "    </tr>\n",
       "  </tbody>\n",
       "</table>\n",
       "</div>"
      ],
      "text/plain": [
       "   Unnamed: 0         filename  type  \\\n",
       "0           0  img_0000000.jpg     0   \n",
       "1           1  img_0000001.jpg     0   \n",
       "2           2  img_0000002.jpg     0   \n",
       "3           3  img_0000003.jpg     0   \n",
       "4           4  img_0000004.jpg     0   \n",
       "\n",
       "                                          text_image type_char  \n",
       "0  FACTURE\\n\\nLOGO\\n\\nJoanna Binet\\n48 Coubertin\\...   facture  \n",
       "1  Joanna Binet\\n48 Coubertin\\n31400 Paris\\n\\nFAC...   facture  \n",
       "2  FACTURE\\n\\nMon entreprise : Nom de la société\\...   facture  \n",
       "3  Joanna Binet\\n48 Coubertin\\n31400 Paris\\n\\nFAC...   facture  \n",
       "4  Payer en ligne >\\nFACTURE No\\n\\nSFIDELI\\n\\nF/0...   facture  "
      ]
     },
     "execution_count": 1,
     "metadata": {},
     "output_type": "execute_result"
    }
   ],
   "source": [
    "import pandas as pd\n",
    "df=pd.read_csv('new_data.csv')\n",
    "df=df[(df.type_char!='file_folder')&(df.type_char!='handwritten')]\n",
    "df.type.replace(list(df.type.unique()),[i for i in range(21)],inplace=True)\n",
    "df.head()"
   ]
  },
  {
   "cell_type": "code",
   "execution_count": 9,
   "id": "654bf506",
   "metadata": {},
   "outputs": [],
   "source": [
    "#nettoyage de text 1\n",
    "\n",
    "#from nltk.corpus import stopwords\n",
    "\n",
    "#stop_words = set(stopwords.words('french'))\n",
    "#stop_words.update([\".\" , \",\",':',\"[{'translation_text':\"])\n",
    "\n",
    "#def stop_words_filtering(liste):\n",
    "    #liste_new=[]\n",
    "    #for i in liste:\n",
    "        #if i not in stop_words:\n",
    "            #liste_new.append(i)\n",
    "        #else:\n",
    "            #continue \n",
    "    #return liste_new\n",
    "#df['text_image_fr']=[(str(' '.join(stop_words_filtering(txt.split())))[:-2][1:-1])  for txt in df.text_image_fr]"
   ]
  },
  {
   "cell_type": "code",
   "execution_count": null,
   "id": "1eff0979",
   "metadata": {},
   "outputs": [],
   "source": []
  },
  {
   "cell_type": "code",
   "execution_count": null,
   "id": "4804c70e",
   "metadata": {},
   "outputs": [],
   "source": []
  },
  {
   "cell_type": "code",
   "execution_count": 3,
   "id": "a769ba34",
   "metadata": {},
   "outputs": [],
   "source": [
    "from sklearn.model_selection import train_test_split\n",
    "X_train,X_test, y_train, y_test=train_test_split(df.text_image.astype(str).values.tolist(),df.type.values.tolist(),test_size=0.2)"
   ]
  },
  {
   "cell_type": "code",
   "execution_count": null,
   "id": "785afc38",
   "metadata": {},
   "outputs": [],
   "source": []
  },
  {
   "cell_type": "code",
   "execution_count": 4,
   "id": "be1d12c6",
   "metadata": {},
   "outputs": [],
   "source": [
    "from transformers import BertTokenizerFast, BertForSequenceClassification\n",
    "\n",
    "model = \"bert-base-uncased\"\n",
    "tokenizer = BertTokenizerFast.from_pretrained(model, do_lower_case=True)"
   ]
  },
  {
   "cell_type": "code",
   "execution_count": 5,
   "id": "a892039d",
   "metadata": {},
   "outputs": [],
   "source": [
    "max_length = 512\n",
    "\n",
    "X_train_encoded = tokenizer(X_train, truncation=True, padding=True, max_length=max_length)\n",
    "X_test_encoded = tokenizer(X_test, truncation=True,padding=True, max_length=max_length)"
   ]
  },
  {
   "cell_type": "code",
   "execution_count": null,
   "id": "d9794853",
   "metadata": {},
   "outputs": [],
   "source": []
  },
  {
   "cell_type": "code",
   "execution_count": 6,
   "id": "490eab9c",
   "metadata": {},
   "outputs": [],
   "source": [
    "import torch\n",
    "\n",
    "\n",
    "class NewsGroupsDataset(torch.utils.data.Dataset):\n",
    "    def __init__(self, encodings, labels):\n",
    "        self.encodings = encodings\n",
    "        self.labels = labels\n",
    "\n",
    "    def __getitem__(self, idx):\n",
    "        item = {k: torch.tensor(v[idx]) for k, v in self.encodings.items()}\n",
    "        item[\"labels\"] = torch.tensor([self.labels[idx]])\n",
    "        return item\n",
    "\n",
    "    def __len__(self):\n",
    "        return len(self.labels)\n",
    "    \n",
    "    \n",
    "train_dataset = NewsGroupsDataset(X_train_encoded, y_train)\n",
    "test_dataset = NewsGroupsDataset(X_test_encoded, y_test)"
   ]
  },
  {
   "cell_type": "code",
   "execution_count": 7,
   "id": "ed9e37e7",
   "metadata": {},
   "outputs": [
    {
     "name": "stderr",
     "output_type": "stream",
     "text": [
      "Some weights of the model checkpoint at bert-base-uncased were not used when initializing BertForSequenceClassification: ['cls.seq_relationship.weight', 'cls.predictions.transform.dense.weight', 'cls.predictions.transform.LayerNorm.weight', 'cls.predictions.transform.LayerNorm.bias', 'cls.seq_relationship.bias', 'cls.predictions.bias', 'cls.predictions.transform.dense.bias', 'cls.predictions.decoder.weight']\n",
      "- This IS expected if you are initializing BertForSequenceClassification from the checkpoint of a model trained on another task or with another architecture (e.g. initializing a BertForSequenceClassification model from a BertForPreTraining model).\n",
      "- This IS NOT expected if you are initializing BertForSequenceClassification from the checkpoint of a model that you expect to be exactly identical (initializing a BertForSequenceClassification model from a BertForSequenceClassification model).\n",
      "Some weights of BertForSequenceClassification were not initialized from the model checkpoint at bert-base-uncased and are newly initialized: ['classifier.bias', 'classifier.weight']\n",
      "You should probably TRAIN this model on a down-stream task to be able to use it for predictions and inference.\n"
     ]
    }
   ],
   "source": [
    "from transformers.file_utils import is_tf_available, is_torch_available, is_torch_tpu_available\n",
    "from transformers import BertTokenizerFast, BertForSequenceClassification\n",
    "from transformers import Trainer, TrainingArguments\n",
    "\n",
    "model = BertForSequenceClassification.from_pretrained(\n",
    "    model, num_labels=len(df.type.unique()))\n",
    "training_args = TrainingArguments(\n",
    "    output_dir='./results',          # chemin de stockage des résultats\n",
    "    num_train_epochs=10,              # nombre d'époques pour l'entraînement\n",
    "    per_device_train_batch_size=8,  # batch size pour l'entraînement\n",
    "    per_device_eval_batch_size=20,   # batch size pour l'évaluation du modèle\n",
    "    warmup_steps=500,                # nombre d'étapes pour le pas d'apprentissage\n",
    "    weight_decay=0.01,               # paramètre décidant des poids\n",
    "    logging_dir='./logs',            # chemin de stockage des logs\n",
    "    # utilisation du meilleur modèle à l'issu de l'entraînement\n",
    "    load_best_model_at_end=True,\n",
    "    logging_steps=400,               # log & enregistrer les poids à chaque étape\n",
    "    save_steps=400,\n",
    "    evaluation_strategy=\"steps\",     # évaluation à chaque `logging_steps`\n",
    ")"
   ]
  },
  {
   "cell_type": "code",
   "execution_count": 10,
   "id": "cbd249fb",
   "metadata": {},
   "outputs": [
    {
     "name": "stderr",
     "output_type": "stream",
     "text": [
      "***** Running training *****\n",
      "  Num examples = 1235\n",
      "  Num Epochs = 3\n",
      "  Instantaneous batch size per device = 8\n",
      "  Total train batch size (w. parallel, distributed & accumulation) = 8\n",
      "  Gradient Accumulation steps = 1\n",
      "  Total optimization steps = 465\n"
     ]
    },
    {
     "data": {
      "text/html": [
       "\n",
       "    <div>\n",
       "      \n",
       "      <progress value='465' max='465' style='width:300px; height:20px; vertical-align: middle;'></progress>\n",
       "      [465/465 2:59:19, Epoch 3/3]\n",
       "    </div>\n",
       "    <table border=\"1\" class=\"dataframe\">\n",
       "  <thead>\n",
       " <tr style=\"text-align: left;\">\n",
       "      <th>Step</th>\n",
       "      <th>Training Loss</th>\n",
       "      <th>Validation Loss</th>\n",
       "    </tr>\n",
       "  </thead>\n",
       "  <tbody>\n",
       "    <tr>\n",
       "      <td>400</td>\n",
       "      <td>2.086800</td>\n",
       "      <td>1.248358</td>\n",
       "    </tr>\n",
       "  </tbody>\n",
       "</table><p>"
      ],
      "text/plain": [
       "<IPython.core.display.HTML object>"
      ]
     },
     "metadata": {},
     "output_type": "display_data"
    },
    {
     "name": "stderr",
     "output_type": "stream",
     "text": [
      "***** Running Evaluation *****\n",
      "  Num examples = 309\n",
      "  Batch size = 20\n",
      "Saving model checkpoint to ./results\\checkpoint-400\n",
      "Configuration saved in ./results\\checkpoint-400\\config.json\n",
      "Model weights saved in ./results\\checkpoint-400\\pytorch_model.bin\n",
      "\n",
      "\n",
      "Training completed. Do not forget to share your model on huggingface.co/models =)\n",
      "\n",
      "\n",
      "Loading best model from ./results\\checkpoint-400 (score: 1.248358130455017).\n",
      "***** Running Evaluation *****\n",
      "  Num examples = 309\n",
      "  Batch size = 20\n"
     ]
    },
    {
     "data": {
      "text/html": [
       "\n",
       "    <div>\n",
       "      \n",
       "      <progress value='32' max='16' style='width:300px; height:20px; vertical-align: middle;'></progress>\n",
       "      [16/16 23:19]\n",
       "    </div>\n",
       "    "
      ],
      "text/plain": [
       "<IPython.core.display.HTML object>"
      ]
     },
     "metadata": {},
     "output_type": "display_data"
    },
    {
     "data": {
      "text/plain": [
       "{'eval_loss': 1.248358130455017,\n",
       " 'eval_runtime': 369.8996,\n",
       " 'eval_samples_per_second': 0.835,\n",
       " 'eval_steps_per_second': 0.043,\n",
       " 'epoch': 3.0}"
      ]
     },
     "execution_count": 10,
     "metadata": {},
     "output_type": "execute_result"
    }
   ],
   "source": [
    "trainer = Trainer(\n",
    "    model=model,\n",
    "    args=training_args,\n",
    "    train_dataset=train_dataset,\n",
    "    eval_dataset=test_dataset\n",
    ")\n",
    "trainer.train()\n",
    "trainer.evaluate()"
   ]
  },
  {
   "cell_type": "code",
   "execution_count": 11,
   "id": "1774f924",
   "metadata": {},
   "outputs": [
    {
     "name": "stderr",
     "output_type": "stream",
     "text": [
      "Configuration saved in Bert_nlp\\config.json\n",
      "Model weights saved in Bert_nlp\\pytorch_model.bin\n"
     ]
    }
   ],
   "source": [
    "model.save_pretrained(\"Bert_nlp\")"
   ]
  },
  {
   "cell_type": "code",
   "execution_count": 12,
   "id": "bcb23864",
   "metadata": {},
   "outputs": [
    {
     "name": "stderr",
     "output_type": "stream",
     "text": [
      "***** Running Prediction *****\n",
      "  Num examples = 309\n",
      "  Batch size = 20\n"
     ]
    }
   ],
   "source": [
    "import numpy as np\n",
    "y_pred = trainer.predict(test_dataset)\n",
    "y_pred = np.argmax(y_pred.predictions, axis=-1)"
   ]
  },
  {
   "cell_type": "code",
   "execution_count": 13,
   "id": "108a6b50",
   "metadata": {},
   "outputs": [
    {
     "name": "stdout",
     "output_type": "stream",
     "text": [
      "              precision    recall  f1-score   support\n",
      "\n",
      "           0       0.55      1.00      0.71         6\n",
      "           1       0.89      0.78      0.83        32\n",
      "           2       0.00      0.00      0.00        10\n",
      "           3       0.93      0.45      0.61        31\n",
      "           4       0.88      0.70      0.78        50\n",
      "           5       0.45      0.93      0.60        41\n",
      "           6       0.72      0.97      0.83        62\n",
      "           7       0.00      0.00      0.00         3\n",
      "           8       0.30      1.00      0.46         3\n",
      "           9       0.00      0.00      0.00         4\n",
      "          10       0.00      0.00      0.00         6\n",
      "          11       0.17      1.00      0.29         1\n",
      "          12       0.80      1.00      0.89         4\n",
      "          13       0.00      0.00      0.00        10\n",
      "          14       0.00      0.00      0.00         5\n",
      "          15       0.00      0.00      0.00         7\n",
      "          16       0.00      0.00      0.00         6\n",
      "          17       0.00      0.00      0.00         9\n",
      "          18       0.50      0.17      0.25         6\n",
      "          19       1.00      0.60      0.75         5\n",
      "          20       0.38      0.62      0.48         8\n",
      "\n",
      "    accuracy                           0.63       309\n",
      "   macro avg       0.36      0.44      0.36       309\n",
      "weighted avg       0.59      0.63      0.58       309\n",
      "\n"
     ]
    },
    {
     "name": "stderr",
     "output_type": "stream",
     "text": [
      "C:\\anaconda\\lib\\site-packages\\sklearn\\metrics\\_classification.py:1327: UndefinedMetricWarning: Precision and F-score are ill-defined and being set to 0.0 in labels with no predicted samples. Use `zero_division` parameter to control this behavior.\n",
      "  _warn_prf(average, modifier, msg_start, len(result))\n",
      "C:\\anaconda\\lib\\site-packages\\sklearn\\metrics\\_classification.py:1327: UndefinedMetricWarning: Precision and F-score are ill-defined and being set to 0.0 in labels with no predicted samples. Use `zero_division` parameter to control this behavior.\n",
      "  _warn_prf(average, modifier, msg_start, len(result))\n",
      "C:\\anaconda\\lib\\site-packages\\sklearn\\metrics\\_classification.py:1327: UndefinedMetricWarning: Precision and F-score are ill-defined and being set to 0.0 in labels with no predicted samples. Use `zero_division` parameter to control this behavior.\n",
      "  _warn_prf(average, modifier, msg_start, len(result))\n"
     ]
    }
   ],
   "source": [
    "from sklearn.metrics import classification_report\n",
    "\n",
    "print( classification_report(y_test, y_pred) )"
   ]
  }
 ],
 "metadata": {
  "kernelspec": {
   "display_name": "Python 3 (ipykernel)",
   "language": "python",
   "name": "python3"
  },
  "language_info": {
   "codemirror_mode": {
    "name": "ipython",
    "version": 3
   },
   "file_extension": ".py",
   "mimetype": "text/x-python",
   "name": "python",
   "nbconvert_exporter": "python",
   "pygments_lexer": "ipython3",
   "version": "3.9.12"
  }
 },
 "nbformat": 4,
 "nbformat_minor": 5
}
